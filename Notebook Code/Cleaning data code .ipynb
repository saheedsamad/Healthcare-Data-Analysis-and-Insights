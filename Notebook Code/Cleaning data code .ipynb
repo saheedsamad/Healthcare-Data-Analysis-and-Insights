{
 "cells": [
  {
   "cell_type": "code",
   "execution_count": 3,
   "id": "43af3891",
   "metadata": {},
   "outputs": [],
   "source": [
    "import pandas as pd\n",
    "import numpy as np"
   ]
  },
  {
   "cell_type": "code",
   "execution_count": 96,
   "id": "1fbfefe3",
   "metadata": {},
   "outputs": [
    {
     "data": {
      "text/html": [
       "<div>\n",
       "<style scoped>\n",
       "    .dataframe tbody tr th:only-of-type {\n",
       "        vertical-align: middle;\n",
       "    }\n",
       "\n",
       "    .dataframe tbody tr th {\n",
       "        vertical-align: top;\n",
       "    }\n",
       "\n",
       "    .dataframe thead th {\n",
       "        text-align: right;\n",
       "    }\n",
       "</style>\n",
       "<table border=\"1\" class=\"dataframe\">\n",
       "  <thead>\n",
       "    <tr style=\"text-align: right;\">\n",
       "      <th></th>\n",
       "      <th>YEAR</th>\n",
       "      <th>COUNTY</th>\n",
       "      <th>HOSPITAL</th>\n",
       "      <th>OSHPDID</th>\n",
       "      <th>Procedure/Condition</th>\n",
       "      <th>Risk Adjuested Mortality Rate</th>\n",
       "      <th># of Deaths</th>\n",
       "      <th># of Cases</th>\n",
       "      <th>Hospital Ratings</th>\n",
       "      <th>LONGITUDE</th>\n",
       "      <th>LATITUDE</th>\n",
       "    </tr>\n",
       "  </thead>\n",
       "  <tbody>\n",
       "    <tr>\n",
       "      <th>0</th>\n",
       "      <td>2016</td>\n",
       "      <td>AAAA</td>\n",
       "      <td>STATEWIDE</td>\n",
       "      <td>None</td>\n",
       "      <td>AAA Repair Unruptured</td>\n",
       "      <td>1.3</td>\n",
       "      <td>30</td>\n",
       "      <td>2358</td>\n",
       "      <td>None</td>\n",
       "      <td>None</td>\n",
       "      <td>None</td>\n",
       "    </tr>\n",
       "    <tr>\n",
       "      <th>1</th>\n",
       "      <td>2016</td>\n",
       "      <td>AAAA</td>\n",
       "      <td>STATEWIDE</td>\n",
       "      <td>None</td>\n",
       "      <td>AMI</td>\n",
       "      <td>6.1</td>\n",
       "      <td>3178</td>\n",
       "      <td>52167</td>\n",
       "      <td>None</td>\n",
       "      <td>None</td>\n",
       "      <td>None</td>\n",
       "    </tr>\n",
       "    <tr>\n",
       "      <th>2</th>\n",
       "      <td>2016</td>\n",
       "      <td>AAAA</td>\n",
       "      <td>STATEWIDE</td>\n",
       "      <td>None</td>\n",
       "      <td>Acute Stroke</td>\n",
       "      <td>9.1</td>\n",
       "      <td>5482</td>\n",
       "      <td>60184</td>\n",
       "      <td>None</td>\n",
       "      <td>None</td>\n",
       "      <td>None</td>\n",
       "    </tr>\n",
       "    <tr>\n",
       "      <th>3</th>\n",
       "      <td>2016</td>\n",
       "      <td>AAAA</td>\n",
       "      <td>STATEWIDE</td>\n",
       "      <td>None</td>\n",
       "      <td>Acute Stroke Hemorrhagic</td>\n",
       "      <td>21.1</td>\n",
       "      <td>2580</td>\n",
       "      <td>12210</td>\n",
       "      <td>None</td>\n",
       "      <td>None</td>\n",
       "      <td>None</td>\n",
       "    </tr>\n",
       "    <tr>\n",
       "      <th>4</th>\n",
       "      <td>2016</td>\n",
       "      <td>AAAA</td>\n",
       "      <td>STATEWIDE</td>\n",
       "      <td>None</td>\n",
       "      <td>Acute Stroke Ischemic</td>\n",
       "      <td>5</td>\n",
       "      <td>2258</td>\n",
       "      <td>45141</td>\n",
       "      <td>None</td>\n",
       "      <td>None</td>\n",
       "      <td>None</td>\n",
       "    </tr>\n",
       "  </tbody>\n",
       "</table>\n",
       "</div>"
      ],
      "text/plain": [
       "   YEAR COUNTY   HOSPITAL OSHPDID       Procedure/Condition  \\\n",
       "0  2016   AAAA  STATEWIDE    None     AAA Repair Unruptured   \n",
       "1  2016   AAAA  STATEWIDE    None                       AMI   \n",
       "2  2016   AAAA  STATEWIDE    None              Acute Stroke   \n",
       "3  2016   AAAA  STATEWIDE    None  Acute Stroke Hemorrhagic   \n",
       "4  2016   AAAA  STATEWIDE    None     Acute Stroke Ischemic   \n",
       "\n",
       "  Risk Adjuested Mortality Rate # of Deaths # of Cases Hospital Ratings  \\\n",
       "0                           1.3          30       2358             None   \n",
       "1                           6.1        3178      52167             None   \n",
       "2                           9.1        5482      60184             None   \n",
       "3                          21.1        2580      12210             None   \n",
       "4                             5        2258      45141             None   \n",
       "\n",
       "  LONGITUDE LATITUDE  \n",
       "0      None     None  \n",
       "1      None     None  \n",
       "2      None     None  \n",
       "3      None     None  \n",
       "4      None     None  "
      ]
     },
     "execution_count": 96,
     "metadata": {},
     "output_type": "execute_result"
    }
   ],
   "source": [
    "Healthcare_Metrics= pd.read_csv('California_Hospital_Inpatient.csv')\n",
    "Healthcare_Metrics.head()"
   ]
  },
  {
   "cell_type": "code",
   "execution_count": 97,
   "id": "abdeddb2",
   "metadata": {},
   "outputs": [
    {
     "name": "stdout",
     "output_type": "stream",
     "text": [
      "Index(['YEAR', 'COUNTY', 'HOSPITAL', 'OSHPDID', 'Procedure/Condition',\n",
      "       'Risk Adjuested Mortality Rate', '# of Deaths', '# of Cases',\n",
      "       'Hospital Ratings', 'LONGITUDE', 'LATITUDE'],\n",
      "      dtype='object')\n"
     ]
    }
   ],
   "source": [
    "# this will Print the exact column names to know the issue\n",
    "print(Healthcare_Metrics.columns)\n"
   ]
  },
  {
   "cell_type": "code",
   "execution_count": 98,
   "id": "2e4c928b",
   "metadata": {
    "scrolled": true
   },
   "outputs": [
    {
     "name": "stdout",
     "output_type": "stream",
     "text": [
      "Index(['YEAR', 'COUNTY', 'HOSPITAL', 'OSHPDID', 'Procedure/Condition',\n",
      "       'Risk Adjusted Mortality Rate', 'Deaths', 'Cases', 'Hospital Ratings',\n",
      "       'Longitude', 'Latitude'],\n",
      "      dtype='object')\n"
     ]
    }
   ],
   "source": [
    "# Rename columns to fix any typos\n",
    "Healthcare_Metrics.rename(columns={\n",
    "    'Risk Adjuested Mortality Rate': 'Risk Adjusted Mortality Rate',\n",
    "    '# of Deaths': 'Deaths',\n",
    "    '# of Cases': 'Cases',\n",
    "    'Hospital Ratings': 'Hospital Ratings',\n",
    "    'LONGITUDE': 'Longitude',\n",
    "    'LATITUDE': 'Latitude'\n",
    "}, inplace=True)\n",
    "\n",
    "#  column names\n",
    "print(Healthcare_Metrics.columns)\n"
   ]
  },
  {
   "cell_type": "code",
   "execution_count": 88,
   "id": "672fd440",
   "metadata": {
    "scrolled": true
   },
   "outputs": [
    {
     "name": "stdout",
     "output_type": "stream",
     "text": [
      "YEAR                              int64\n",
      "COUNTY                           string\n",
      "HOSPITAL                         string\n",
      "OSHPDID                          string\n",
      "Procedure/Condition              string\n",
      "Risk Adjusted Mortality Rate    float64\n",
      "Deaths                          float64\n",
      "Cases                           float64\n",
      "Hospital Ratings                 string\n",
      "Longitude                       float64\n",
      "Latitude                        float64\n",
      "dtype: object\n"
     ]
    }
   ],
   "source": [
    "\n",
    "# Assigning  proper data types to the column \n",
    "Healthcare_Metrics = Healthcare_Metrics.astype({\n",
    "    'YEAR': 'int64',                      # Year as integer\n",
    "    'COUNTY': 'string',                   # County as string\n",
    "    'HOSPITAL': 'string',                 # Hospital as string\n",
    "    'OSHPDID': 'string',                  # Hospital ID as string\n",
    "    'Procedure/Condition': 'string',      # Procedure as string\n",
    "    'Risk Adjusted Mortality Rate': 'float64',  # Mortality Rate as float\n",
    "    'Deaths': 'float64',                  # Deaths as float\n",
    "    'Cases': 'float64',                   # Cases as float\n",
    "    'Hospital Ratings': 'string',         # Ratings as string\n",
    "    'Longitude': 'float64',               # Longitude as float\n",
    "    'Latitude': 'float64'                 # Latitude as float\n",
    "})\n",
    "\n",
    "# Verify data types\n",
    "print(Healthcare_Metrics.dtypes)\n"
   ]
  },
  {
   "cell_type": "code",
   "execution_count": 99,
   "id": "11c28f7a",
   "metadata": {},
   "outputs": [
    {
     "name": "stdout",
     "output_type": "stream",
     "text": [
      "YEAR                                0\n",
      "COUNTY                              0\n",
      "HOSPITAL                            0\n",
      "OSHPDID                             0\n",
      "Procedure/Condition                 0\n",
      "Risk Adjusted Mortality Rate     9774\n",
      "Deaths                           9690\n",
      "Cases                            9690\n",
      "Hospital Ratings                21296\n",
      "Longitude                          28\n",
      "Latitude                           28\n",
      "dtype: int64\n"
     ]
    }
   ],
   "source": [
    "print(Healthcare_Metrics.isnull().sum())\n"
   ]
  },
  {
   "cell_type": "code",
   "execution_count": 100,
   "id": "92618542",
   "metadata": {
    "scrolled": true
   },
   "outputs": [
    {
     "name": "stdout",
     "output_type": "stream",
     "text": [
      "YEAR                            0\n",
      "COUNTY                          0\n",
      "HOSPITAL                        0\n",
      "OSHPDID                         0\n",
      "Procedure/Condition             0\n",
      "Risk Adjusted Mortality Rate    0\n",
      "Deaths                          0\n",
      "Cases                           0\n",
      "Hospital Ratings                0\n",
      "Longitude                       0\n",
      "Latitude                        0\n",
      "dtype: int64\n"
     ]
    }
   ],
   "source": [
    "# Replace non-numeric values (like '.') with NaN in numeric columns\n",
    "numeric_columns = ['Risk Adjusted Mortality Rate', 'Deaths', 'Cases', 'Longitude', 'Latitude']\n",
    "for col in numeric_columns:\n",
    "    Healthcare_Metrics[col] = pd.to_numeric(Healthcare_Metrics[col], errors='coerce')\n",
    "\n",
    "# Fill missing values in numeric columns with the median of each 'Procedure/Condition'\n",
    "for col in ['Risk Adjusted Mortality Rate', 'Deaths', 'Cases']:\n",
    "    Healthcare_Metrics[col] = Healthcare_Metrics.groupby('Procedure/Condition')[col].transform(\n",
    "        lambda x: x.fillna(x.median())\n",
    "    )\n",
    "\n",
    "# Fill missing values in categorical columns with 'Unknown'\n",
    "Healthcare_Metrics['Hospital Ratings'].fillna('Unknown', inplace=True)\n",
    "\n",
    "# Fill missing Longitude and Latitude with the median for each County\n",
    "for col in ['Longitude', 'Latitude']:\n",
    "    Healthcare_Metrics[col] = Healthcare_Metrics.groupby('COUNTY')[col].transform(\n",
    "        lambda x: x.fillna(x.median())\n",
    "    )\n",
    "\n",
    "# If any missing values remain in Longitude and Latitude, fill them with the overall median\n",
    "Healthcare_Metrics['Longitude'].fillna(Healthcare_Metrics['Longitude'].median(), inplace=True)\n",
    "Healthcare_Metrics['Latitude'].fillna(Healthcare_Metrics['Latitude'].median(), inplace=True)\n",
    "\n",
    "# Verify if all missing values are handled\n",
    "print(Healthcare_Metrics.isnull().sum())\n"
   ]
  },
  {
   "cell_type": "code",
   "execution_count": 84,
   "id": "48d3c95d",
   "metadata": {},
   "outputs": [
    {
     "name": "stdout",
     "output_type": "stream",
     "text": [
      "Cleaned dataset saved successfully as cleaned_healthcare_metrics.csv\n"
     ]
    }
   ],
   "source": [
    "# Save the cleaned dataset to a CSV file\n",
    "cleaned_file_path = \"cleaned_healthcare_metrics.csv\"\n",
    "Healthcare_Metrics.to_csv(cleaned_file_path, index=False)\n",
    "\n",
    "print(f\"Cleaned dataset saved successfully as {cleaned_file_path}\")\n"
   ]
  }
 ],
 "metadata": {
  "kernelspec": {
   "display_name": "Python 3 (ipykernel)",
   "language": "python",
   "name": "python3"
  },
  "language_info": {
   "codemirror_mode": {
    "name": "ipython",
    "version": 3
   },
   "file_extension": ".py",
   "mimetype": "text/x-python",
   "name": "python",
   "nbconvert_exporter": "python",
   "pygments_lexer": "ipython3",
   "version": "3.11.3"
  }
 },
 "nbformat": 4,
 "nbformat_minor": 5
}
